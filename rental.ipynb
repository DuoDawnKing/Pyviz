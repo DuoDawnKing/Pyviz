{
 "cells": [
  {
   "cell_type": "code",
   "execution_count": null,
   "id": "7909add1-057a-46e6-8e96-f6a94e7a7afc",
   "metadata": {},
   "outputs": [],
   "source": [
    "# imports\n",
    "import panel as pn\n",
    "pn.extension('plotly')\n",
    "import plotly.express as px\n",
    "import pandas as pd\n",
    "import hvplot.pandas\n",
    "import matplotlib.pyplot as plt\n",
    "import numpy as np\n",
    "import os\n",
    "from pathlib import Path\n",
    "from dotenv import load_dotenv\n",
    "\n",
    "import warnings\n",
    "warnings.filterwarnings('ignore')"
   ]
  },
  {
   "cell_type": "code",
   "execution_count": null,
   "id": "481bf12f-af58-4c41-b7f6-9fd5cdb6f3d1",
   "metadata": {},
   "outputs": [],
   "source": [
    "load_dotenv()\n",
    "map_box_api=(\"opk.eyJ1IjdffgMm1temVpvxcvV4YmpddffzxM0YyJ9.-5Ph9ZmATi8fyMlqxwq48A\")"
   ]
  },
  {
   "cell_type": "code",
   "execution_count": null,
   "id": "9b36cb1a-7bde-4594-b5b0-c708b5c2e2f9",
   "metadata": {},
   "outputs": [],
   "source": [
    "\n",
    "# Read the census data into a Pandas DataFrame\n",
    "file_path = Path(\"sfo_neighborhoods_census_data.csv\")\n",
    "sfo_data = pd.read_csv(file_path, index_col=\"year\")\n",
    "sfo_data.head()"
   ]
  },
  {
   "cell_type": "code",
   "execution_count": null,
   "id": "365147a3-8809-4cb3-97e5-6a07ec74d749",
   "metadata": {},
   "outputs": [],
   "source": [
    "# Calculate the mean number of housing units per year (hint: use groupby) \n",
    "# YOUR CODE HERE!\n",
    "housing_unitspy = sfo_data.groupby('year').mean()\n",
    "housing_unitspy = housing_unitspy.drop([\"sale_price_sqr_foot\", \"gross_rent\"], axis=1)\n",
    "housing_unitspy\n",
    "ave_min=housing_unitspy.min()\n",
    "ave_max = housing_unitspy.max()\n",
    "ave_std = housing_unitspy.std()"
   ]
  },
  {
   "cell_type": "code",
   "execution_count": null,
   "id": "54e6faad-bc86-4f34-aeb0-44a0ad935c4a",
   "metadata": {},
   "outputs": [],
   "source": [
    "housing_unitspy.to_csv()\n"
   ]
  },
  {
   "cell_type": "code",
   "execution_count": null,
   "id": "4ad09671-7b5a-42a0-ad49-4d3bd4be188e",
   "metadata": {},
   "outputs": [],
   "source": [
    "housing_unitspy.plot.bar(ylim=[ave_min[0],ave_max[0]])"
   ]
  },
  {
   "cell_type": "code",
   "execution_count": null,
   "id": "786c6130-a697-4fa2-8020-9ea5f82a0254",
   "metadata": {},
   "outputs": [],
   "source": [
    "sqr_foot = sfo_data.groupby('year').mean()\n",
    "sqr_foot = sqr_foot.drop([\"housing_units\", \"gross_rent\"], axis=1)\n",
    "sqr_foot"
   ]
  },
  {
   "cell_type": "code",
   "execution_count": null,
   "id": "63f69b06-8121-4f08-b0b5-b1af35bfd00d",
   "metadata": {},
   "outputs": [],
   "source": [
    "sqr_foot.plot.line()"
   ]
  },
  {
   "cell_type": "code",
   "execution_count": null,
   "id": "71d299d7-3a11-4177-8bdf-734ff6837990",
   "metadata": {},
   "outputs": [],
   "source": [
    "new_price= sfo_data.groupby(['year', 'neighborhood']).mean()\n",
    "hood_price_year\n"
   ]
  },
  {
   "cell_type": "code",
   "execution_count": null,
   "id": "91297ad3-8716-4d80-99cf-758f9a740362",
   "metadata": {},
   "outputs": [],
   "source": [
    "new_price['sale_price_sqr_foot'].hvplot.bar(\n",
    "    title='Avg.pricet',\n",
    "    xlabel= \"Year\",\n",
    "    ylabel=\"units\",\n",
    "    groupby=\"neighborhood\")"
   ]
  },
  {
   "cell_type": "code",
   "execution_count": null,
   "id": "edc8b3e9-f84c-4125-b056-4ac169e251dd",
   "metadata": {},
   "outputs": [],
   "source": [
    "new_price['gross_rent'].hvplot.bar(\n",
    "    title='Avg. Rent',\n",
    "    xlabel= \"Year\",\n",
    "    ylabel=\"Avg. Rent\",\n",
    "    groupby=\"neighborhood\")"
   ]
  },
  {
   "cell_type": "code",
   "execution_count": null,
   "id": "a65eb48a-6b08-41d7-9952-23ef568aebeb",
   "metadata": {},
   "outputs": [],
   "source": [
    "top_area = sfo_data.groupby([\"neighborhood\"]).mean()\n",
    "top_ten_Area = exp_hoods.sort_values('sale_price_sqr_foot', ascending=True).tail(10)\n",
    "top_expensive_Area= ten_exp_hood.drop(['housing_units', 'gross_rent'], axis=1)"
   ]
  },
  {
   "cell_type": "code",
   "execution_count": null,
   "id": "dbc3763c-201f-4c05-b272-ddf0e2739beb",
   "metadata": {},
   "outputs": [],
   "source": [
    "top_expensive_Area.hvplot(kind='bar', rot=90)"
   ]
  },
  {
   "cell_type": "code",
   "execution_count": null,
   "id": "7208d319-154a-424a-b0b1-9f9b479a8df6",
   "metadata": {},
   "outputs": [],
   "source": [
    "price_by_area = sfo_data.groupby(['year', 'neighborhood']).mean()\n",
    "price_by_area"
   ]
  },
  {
   "cell_type": "code",
   "execution_count": null,
   "id": "ec8655ed-e6bb-46a6-a0ac-286a61228010",
   "metadata": {},
   "outputs": [],
   "source": []
  },
  {
   "cell_type": "code",
   "execution_count": null,
   "id": "066fd772-58d9-4ebd-8a5f-259ddcd9acd5",
   "metadata": {},
   "outputs": [],
   "source": []
  },
  {
   "cell_type": "code",
   "execution_count": null,
   "id": "b8e69851-a6bb-4ef4-88eb-3c3aa124f652",
   "metadata": {},
   "outputs": [],
   "source": []
  }
 ],
 "metadata": {
  "kernelspec": {
   "display_name": "Python 3 (ipykernel)",
   "language": "python",
   "name": "python3"
  },
  "language_info": {
   "codemirror_mode": {
    "name": "ipython",
    "version": 3
   },
   "file_extension": ".py",
   "mimetype": "text/x-python",
   "name": "python",
   "nbconvert_exporter": "python",
   "pygments_lexer": "ipython3",
   "version": "3.7.11"
  }
 },
 "nbformat": 4,
 "nbformat_minor": 5
}
